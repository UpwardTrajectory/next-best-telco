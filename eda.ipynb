{
 "cells": [
  {
   "cell_type": "markdown",
   "metadata": {},
   "source": [
    "Data available for download from Kaggle: https://www.kaggle.com/dimitaryanev/mobilechurndataxlsx"
   ]
  },
  {
   "cell_type": "code",
   "execution_count": 1,
   "metadata": {},
   "outputs": [],
   "source": [
    "import pandas as pd\n",
    "\n",
    "# Converted to TSV for faster load times, if using the link above, use read_excel()\n",
    "f_path = \"data/mobile-churn-data.tsv\"\n",
    "df = pd.read_csv(f_path, sep='\\t')"
   ]
  },
  {
   "cell_type": "code",
   "execution_count": 2,
   "metadata": {},
   "outputs": [],
   "source": [
    "# Get rid of P.I.D. for privacy and lack of predictive value, year is all the same, so no helpful info\n",
    "df = df.drop(['user_account_id', 'year'], axis=1)"
   ]
  },
  {
   "cell_type": "code",
   "execution_count": 3,
   "metadata": {},
   "outputs": [
    {
     "data": {
      "text/html": [
       "<div>\n",
       "<style scoped>\n",
       "    .dataframe tbody tr th:only-of-type {\n",
       "        vertical-align: middle;\n",
       "    }\n",
       "\n",
       "    .dataframe tbody tr th {\n",
       "        vertical-align: top;\n",
       "    }\n",
       "\n",
       "    .dataframe thead th {\n",
       "        text-align: right;\n",
       "    }\n",
       "</style>\n",
       "<table border=\"1\" class=\"dataframe\">\n",
       "  <thead>\n",
       "    <tr style=\"text-align: right;\">\n",
       "      <th></th>\n",
       "      <th>month</th>\n",
       "      <th>user_lifetime</th>\n",
       "      <th>user_intake</th>\n",
       "      <th>user_no_outgoing_activity_in_days</th>\n",
       "      <th>user_account_balance_last</th>\n",
       "      <th>user_spendings</th>\n",
       "      <th>user_has_outgoing_calls</th>\n",
       "      <th>user_has_outgoing_sms</th>\n",
       "      <th>user_use_gprs</th>\n",
       "      <th>user_does_reload</th>\n",
       "      <th>...</th>\n",
       "      <th>last_100_calls_outgoing_duration</th>\n",
       "      <th>last_100_calls_outgoing_to_onnet_duration</th>\n",
       "      <th>last_100_calls_outgoing_to_offnet_duration</th>\n",
       "      <th>last_100_calls_outgoing_to_abroad_duration</th>\n",
       "      <th>last_100_sms_outgoing_count</th>\n",
       "      <th>last_100_sms_outgoing_to_onnet_count</th>\n",
       "      <th>last_100_sms_outgoing_to_offnet_count</th>\n",
       "      <th>last_100_sms_outgoing_to_abroad_count</th>\n",
       "      <th>last_100_gprs_usage</th>\n",
       "      <th>churn</th>\n",
       "    </tr>\n",
       "  </thead>\n",
       "  <tbody>\n",
       "    <tr>\n",
       "      <th>0</th>\n",
       "      <td>6</td>\n",
       "      <td>1000</td>\n",
       "      <td>0</td>\n",
       "      <td>1</td>\n",
       "      <td>0.05</td>\n",
       "      <td>0.00</td>\n",
       "      <td>1</td>\n",
       "      <td>1</td>\n",
       "      <td>0</td>\n",
       "      <td>0</td>\n",
       "      <td>...</td>\n",
       "      <td>75.27</td>\n",
       "      <td>0.00</td>\n",
       "      <td>63.43</td>\n",
       "      <td>0.00</td>\n",
       "      <td>210</td>\n",
       "      <td>1</td>\n",
       "      <td>84</td>\n",
       "      <td>0</td>\n",
       "      <td>0.0</td>\n",
       "      <td>0</td>\n",
       "    </tr>\n",
       "    <tr>\n",
       "      <th>1</th>\n",
       "      <td>6</td>\n",
       "      <td>1000</td>\n",
       "      <td>0</td>\n",
       "      <td>25</td>\n",
       "      <td>28.31</td>\n",
       "      <td>3.45</td>\n",
       "      <td>1</td>\n",
       "      <td>0</td>\n",
       "      <td>0</td>\n",
       "      <td>0</td>\n",
       "      <td>...</td>\n",
       "      <td>13.38</td>\n",
       "      <td>11.18</td>\n",
       "      <td>2.00</td>\n",
       "      <td>11.18</td>\n",
       "      <td>0</td>\n",
       "      <td>0</td>\n",
       "      <td>0</td>\n",
       "      <td>0</td>\n",
       "      <td>0.0</td>\n",
       "      <td>0</td>\n",
       "    </tr>\n",
       "    <tr>\n",
       "      <th>2</th>\n",
       "      <td>6</td>\n",
       "      <td>1005</td>\n",
       "      <td>0</td>\n",
       "      <td>8</td>\n",
       "      <td>15.62</td>\n",
       "      <td>1.97</td>\n",
       "      <td>1</td>\n",
       "      <td>0</td>\n",
       "      <td>0</td>\n",
       "      <td>0</td>\n",
       "      <td>...</td>\n",
       "      <td>30.00</td>\n",
       "      <td>0.00</td>\n",
       "      <td>0.00</td>\n",
       "      <td>10.45</td>\n",
       "      <td>0</td>\n",
       "      <td>0</td>\n",
       "      <td>0</td>\n",
       "      <td>0</td>\n",
       "      <td>0.0</td>\n",
       "      <td>0</td>\n",
       "    </tr>\n",
       "    <tr>\n",
       "      <th>3</th>\n",
       "      <td>6</td>\n",
       "      <td>1013</td>\n",
       "      <td>0</td>\n",
       "      <td>11</td>\n",
       "      <td>5.62</td>\n",
       "      <td>0.00</td>\n",
       "      <td>1</td>\n",
       "      <td>0</td>\n",
       "      <td>0</td>\n",
       "      <td>0</td>\n",
       "      <td>...</td>\n",
       "      <td>0.00</td>\n",
       "      <td>0.00</td>\n",
       "      <td>0.00</td>\n",
       "      <td>0.00</td>\n",
       "      <td>0</td>\n",
       "      <td>0</td>\n",
       "      <td>0</td>\n",
       "      <td>0</td>\n",
       "      <td>0.0</td>\n",
       "      <td>1</td>\n",
       "    </tr>\n",
       "    <tr>\n",
       "      <th>4</th>\n",
       "      <td>6</td>\n",
       "      <td>1032</td>\n",
       "      <td>0</td>\n",
       "      <td>2</td>\n",
       "      <td>5.86</td>\n",
       "      <td>0.15</td>\n",
       "      <td>1</td>\n",
       "      <td>0</td>\n",
       "      <td>0</td>\n",
       "      <td>1</td>\n",
       "      <td>...</td>\n",
       "      <td>2.58</td>\n",
       "      <td>0.00</td>\n",
       "      <td>1.00</td>\n",
       "      <td>0.00</td>\n",
       "      <td>0</td>\n",
       "      <td>0</td>\n",
       "      <td>0</td>\n",
       "      <td>0</td>\n",
       "      <td>0.0</td>\n",
       "      <td>0</td>\n",
       "    </tr>\n",
       "  </tbody>\n",
       "</table>\n",
       "<p>5 rows × 64 columns</p>\n",
       "</div>"
      ],
      "text/plain": [
       "   month  user_lifetime  user_intake  user_no_outgoing_activity_in_days  \\\n",
       "0      6           1000            0                                  1   \n",
       "1      6           1000            0                                 25   \n",
       "2      6           1005            0                                  8   \n",
       "3      6           1013            0                                 11   \n",
       "4      6           1032            0                                  2   \n",
       "\n",
       "   user_account_balance_last  user_spendings  user_has_outgoing_calls  \\\n",
       "0                       0.05            0.00                        1   \n",
       "1                      28.31            3.45                        1   \n",
       "2                      15.62            1.97                        1   \n",
       "3                       5.62            0.00                        1   \n",
       "4                       5.86            0.15                        1   \n",
       "\n",
       "   user_has_outgoing_sms  user_use_gprs  user_does_reload  ...  \\\n",
       "0                      1              0                 0  ...   \n",
       "1                      0              0                 0  ...   \n",
       "2                      0              0                 0  ...   \n",
       "3                      0              0                 0  ...   \n",
       "4                      0              0                 1  ...   \n",
       "\n",
       "   last_100_calls_outgoing_duration  \\\n",
       "0                             75.27   \n",
       "1                             13.38   \n",
       "2                             30.00   \n",
       "3                              0.00   \n",
       "4                              2.58   \n",
       "\n",
       "   last_100_calls_outgoing_to_onnet_duration  \\\n",
       "0                                       0.00   \n",
       "1                                      11.18   \n",
       "2                                       0.00   \n",
       "3                                       0.00   \n",
       "4                                       0.00   \n",
       "\n",
       "   last_100_calls_outgoing_to_offnet_duration  \\\n",
       "0                                       63.43   \n",
       "1                                        2.00   \n",
       "2                                        0.00   \n",
       "3                                        0.00   \n",
       "4                                        1.00   \n",
       "\n",
       "   last_100_calls_outgoing_to_abroad_duration  last_100_sms_outgoing_count  \\\n",
       "0                                        0.00                          210   \n",
       "1                                       11.18                            0   \n",
       "2                                       10.45                            0   \n",
       "3                                        0.00                            0   \n",
       "4                                        0.00                            0   \n",
       "\n",
       "   last_100_sms_outgoing_to_onnet_count  \\\n",
       "0                                     1   \n",
       "1                                     0   \n",
       "2                                     0   \n",
       "3                                     0   \n",
       "4                                     0   \n",
       "\n",
       "   last_100_sms_outgoing_to_offnet_count  \\\n",
       "0                                     84   \n",
       "1                                      0   \n",
       "2                                      0   \n",
       "3                                      0   \n",
       "4                                      0   \n",
       "\n",
       "   last_100_sms_outgoing_to_abroad_count  last_100_gprs_usage  churn  \n",
       "0                                      0                  0.0      0  \n",
       "1                                      0                  0.0      0  \n",
       "2                                      0                  0.0      0  \n",
       "3                                      0                  0.0      1  \n",
       "4                                      0                  0.0      0  \n",
       "\n",
       "[5 rows x 64 columns]"
      ]
     },
     "execution_count": 3,
     "metadata": {},
     "output_type": "execute_result"
    }
   ],
   "source": [
    "df.head()"
   ]
  },
  {
   "cell_type": "code",
   "execution_count": 4,
   "metadata": {},
   "outputs": [],
   "source": [
    "X = df.drop('churn', axis=1)\n",
    "y = df[['churn']]\n",
    "\n",
    "from sklearn.model_selection import train_test_split\n",
    "from sklearn.preprocessing import scale\n",
    "from sklearn.preprocessing import StandardScaler\n",
    "\n",
    "\n",
    "X_train, X_test, y_train, y_test = train_test_split(X, y, test_size=.1)"
   ]
  },
  {
   "cell_type": "code",
   "execution_count": 16,
   "metadata": {},
   "outputs": [
    {
     "name": "stdout",
     "output_type": "stream",
     "text": [
      "(59822, 63)\n",
      "(59822, 1)\n",
      "(6647, 63)\n",
      "(6647, 1)\n"
     ]
    }
   ],
   "source": [
    "def get_shape(clean=False):\n",
    "    if not clean:\n",
    "        iters = [X_train, y_train, X_test, y_test]\n",
    "    else:\n",
    "        iters = [X_train, X_train_clean, y_train, X_test, X_test_clean, y_test]\n",
    "    for x in iters:\n",
    "        print(x.shape)\n",
    "\n",
    "            \n",
    "get_shape()"
   ]
  },
  {
   "cell_type": "code",
   "execution_count": 19,
   "metadata": {},
   "outputs": [],
   "source": [
    "def remove_corr_cols(data, target=['user_lifetime']):\n",
    "    \"\"\"Remove columns that share the same information with the target column.\"\"\"\n",
    "    target = ['user_lifetime']\n",
    "    sorted_corr = X_train.corr()[target].sort_values(target, ascending=False)\n",
    "    removing_features = sorted_corr[sorted_corr.duplicated()].index\n",
    "    return data.drop(removing_features, axis=1)\n",
    "\n",
    "\n",
    "def process_df(data, scale=None):\n",
    "    #Remove input features with same information\n",
    "    data = remove_corr_cols(data, True)\n",
    "    # Make a long col name shorter & more intuitive\n",
    "    data = data.rename(columns={'user_no_outgoing_activity_in_days': 'min_outgoing_inactive_days'})\n",
    "    cols = data.columns\n",
    "    \n",
    "    if not scale:\n",
    "        scale = StandardScaler()\n",
    "        scale.fit(data)\n",
    "\n",
    "    return pd.DataFrame(scale.transform(data), columns=cols), scale"
   ]
  },
  {
   "cell_type": "code",
   "execution_count": 20,
   "metadata": {},
   "outputs": [
    {
     "name": "stdout",
     "output_type": "stream",
     "text": [
      "(59822, 63)\n",
      "(59822, 57)\n",
      "(59822, 1)\n",
      "(6647, 63)\n",
      "(6647, 57)\n",
      "(6647, 1)\n"
     ]
    }
   ],
   "source": [
    "X_train_clean, scale = process_df(X_train)\n",
    "X_test_clean, scale = process_df(X_test, scale)\n",
    "\n",
    "get_shape(True)"
   ]
  },
  {
   "cell_type": "code",
   "execution_count": 21,
   "metadata": {},
   "outputs": [],
   "source": [
    "# Uncomment the next line if you need to install SMOTE aka imbalanced-learn\n",
    "# conda install -c conda-forge imbalanced-learn"
   ]
  },
  {
   "cell_type": "code",
   "execution_count": 24,
   "metadata": {},
   "outputs": [],
   "source": [
    "from imblearn.over_sampling import SMOTE"
   ]
  },
  {
   "cell_type": "code",
   "execution_count": 25,
   "metadata": {},
   "outputs": [],
   "source": [
    "os = SMOTE()\n",
    "cols = X_train_clean.columns"
   ]
  },
  {
   "cell_type": "code",
   "execution_count": 36,
   "metadata": {},
   "outputs": [],
   "source": [
    "os_data_X, os_data_y = os.fit_sample(X_train_clean, y_train)\n",
    "os_data = pd.DataFrame(data=os_data_X, columns=cols)\n",
    "os_data['churn'] = os_data_y"
   ]
  },
  {
   "cell_type": "code",
   "execution_count": 37,
   "metadata": {},
   "outputs": [
    {
     "data": {
      "text/plain": [
       "Index(['month', 'user_lifetime', 'user_intake', 'min_outgoing_inactive_days',\n",
       "       'user_account_balance_last', 'user_spendings',\n",
       "       'user_has_outgoing_calls', 'user_has_outgoing_sms', 'user_use_gprs',\n",
       "       'user_does_reload', 'reloads_inactive_days', 'reloads_count',\n",
       "       'reloads_sum', 'calls_outgoing_count', 'calls_outgoing_spendings',\n",
       "       'calls_outgoing_duration', 'calls_outgoing_spendings_max',\n",
       "       'calls_outgoing_duration_max', 'calls_outgoing_inactive_days',\n",
       "       'calls_outgoing_to_onnet_count', 'calls_outgoing_to_onnet_spendings',\n",
       "       'calls_outgoing_to_onnet_duration', 'calls_outgoing_to_offnet_count',\n",
       "       'calls_outgoing_to_offnet_spendings',\n",
       "       'calls_outgoing_to_offnet_duration', 'calls_outgoing_to_abroad_count',\n",
       "       'calls_outgoing_to_abroad_spendings',\n",
       "       'calls_outgoing_to_abroad_duration', 'sms_outgoing_count',\n",
       "       'sms_outgoing_spendings', 'sms_outgoing_spendings_max',\n",
       "       'sms_outgoing_inactive_days', 'sms_outgoing_to_onnet_count',\n",
       "       'sms_outgoing_to_onnet_spendings', 'sms_outgoing_to_offnet_count',\n",
       "       'sms_outgoing_to_offnet_spendings', 'sms_outgoing_to_abroad_count',\n",
       "       'sms_outgoing_to_abroad_spendings', 'sms_incoming_count',\n",
       "       'sms_incoming_spendings', 'sms_incoming_from_abroad_count',\n",
       "       'sms_incoming_from_abroad_spendings', 'gprs_session_count',\n",
       "       'gprs_usage', 'gprs_spendings', 'gprs_inactive_days',\n",
       "       'last_100_reloads_count', 'last_100_reloads_sum',\n",
       "       'last_100_calls_outgoing_duration',\n",
       "       'last_100_calls_outgoing_to_onnet_duration',\n",
       "       'last_100_calls_outgoing_to_offnet_duration',\n",
       "       'last_100_calls_outgoing_to_abroad_duration',\n",
       "       'last_100_sms_outgoing_count', 'last_100_sms_outgoing_to_onnet_count',\n",
       "       'last_100_sms_outgoing_to_offnet_count',\n",
       "       'last_100_sms_outgoing_to_abroad_count', 'last_100_gprs_usage',\n",
       "       'churn'],\n",
       "      dtype='object')"
      ]
     },
     "execution_count": 37,
     "metadata": {},
     "output_type": "execute_result"
    }
   ],
   "source": [
    "os_data_X.columns"
   ]
  },
  {
   "cell_type": "code",
   "execution_count": 31,
   "metadata": {},
   "outputs": [
    {
     "data": {
      "text/plain": [
       "(94714, 58)"
      ]
     },
     "execution_count": 31,
     "metadata": {},
     "output_type": "execute_result"
    }
   ],
   "source": [
    "os_data_X.shape"
   ]
  },
  {
   "cell_type": "code",
   "execution_count": 27,
   "metadata": {},
   "outputs": [
    {
     "name": "stdout",
     "output_type": "stream",
     "text": [
      "Length of oversampled data is                                             94714\n",
      "Number of churn whose value is 0 in oversampled data                      47357\n",
      "Number of churn whose value is 1 in oversampled data in oversampled data  47357\n"
     ]
    }
   ],
   "source": [
    "print(\"Length of oversampled data is                                            \",len(os_data_X))\n",
    "print(\"Number of churn whose value is 0 in oversampled data                     \",len(os_data_y[os_data.churn==0]))\n",
    "print(\"Number of churn whose value is 1 in oversampled data in oversampled data \",len(os_data_y[os_data.churn==1]))"
   ]
  },
  {
   "cell_type": "code",
   "execution_count": 42,
   "metadata": {},
   "outputs": [
    {
     "data": {
      "text/plain": [
       "6647"
      ]
     },
     "execution_count": 42,
     "metadata": {},
     "output_type": "execute_result"
    }
   ],
   "source": [
    "len(X_test_clean)"
   ]
  },
  {
   "cell_type": "code",
   "execution_count": 43,
   "metadata": {},
   "outputs": [
    {
     "data": {
      "text/plain": [
       "6647"
      ]
     },
     "execution_count": 43,
     "metadata": {},
     "output_type": "execute_result"
    }
   ],
   "source": [
    "len(y_test['churn'])"
   ]
  },
  {
   "cell_type": "code",
   "execution_count": 46,
   "metadata": {},
   "outputs": [],
   "source": [
    "from sklearn.linear_model import LogisticRegression\n",
    "from sklearn import metrics\n",
    "\n",
    "logreg = LogisticRegression(max_iter=200)\n",
    "\n",
    "# y requires a series, not a dataframe\n",
    "\n",
    "logreg.fit(X_train_clean, y_train['churn'])\n",
    "X_test_preds = logreg.predict(X_test_clean)\n",
    "\n"
   ]
  },
  {
   "cell_type": "code",
   "execution_count": 38,
   "metadata": {},
   "outputs": [
    {
     "data": {
      "text/plain": [
       "0.8247329622386039"
      ]
     },
     "execution_count": 38,
     "metadata": {},
     "output_type": "execute_result"
    }
   ],
   "source": [
    "# The above is accuracy without SMOTE, now let's try it with\n",
    "\n",
    "logreg.fit(os_data_X.drop('churn', axis=1), os_data_y['churn'])\n",
    "logreg.score(X_test_clean, y_test['churn'])"
   ]
  },
  {
   "cell_type": "code",
   "execution_count": null,
   "metadata": {},
   "outputs": [],
   "source": [
    "import numpy as np\n",
    "from sklearn.feature_selection import RFE\n",
    "from sklearn.linear_model import LogisticRegression\n",
    "\n",
    "logreg = LogisticRegression()\n",
    "rfe = RFE(logreg, 40)\n",
    "rfe = rfe.fit(os_data_X, os_data_y['churn'])\n",
    "\n",
    "print(rfe.support_)\n",
    "print(rfe.ranking_)"
   ]
  },
  {
   "cell_type": "code",
   "execution_count": null,
   "metadata": {},
   "outputs": [],
   "source": []
  }
 ],
 "metadata": {
  "kernelspec": {
   "display_name": "Python 3",
   "language": "python",
   "name": "python3"
  },
  "language_info": {
   "codemirror_mode": {
    "name": "ipython",
    "version": 3
   },
   "file_extension": ".py",
   "mimetype": "text/x-python",
   "name": "python",
   "nbconvert_exporter": "python",
   "pygments_lexer": "ipython3",
   "version": "3.7.7"
  }
 },
 "nbformat": 4,
 "nbformat_minor": 4
}
